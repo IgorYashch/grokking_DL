{
 "cells": [
  {
   "cell_type": "code",
   "execution_count": 1,
   "id": "4e736a58",
   "metadata": {},
   "outputs": [],
   "source": [
    "import MyTorch\n",
    "from MyTorch.nn import Sequential, Conv2d, Tanh, Linear, Sigmoid, Flatten, CrossEntropyLoss\n",
    "from MyTorch.optim import SGD\n",
    "from MyTorch import Tensor"
   ]
  },
  {
   "cell_type": "code",
   "execution_count": 2,
   "id": "01d8b7c7",
   "metadata": {},
   "outputs": [],
   "source": [
    "from torchvision import datasets, transforms\n",
    "train_set = datasets.MNIST('./data', train=True, download=True)\n",
    "test_set = datasets.MNIST('./data', train=False, download=True)\n",
    "train_set_array = train_set.data.numpy()[:1000]\n",
    "test_set_array = test_set.data.numpy()[:1000]"
   ]
  },
  {
   "cell_type": "code",
   "execution_count": 3,
   "id": "ab92ee4b",
   "metadata": {},
   "outputs": [],
   "source": [
    "import numpy as np\n",
    "np.random.seed(1)\n",
    "\n",
    "x_train = train_set.data.numpy()[:1000] / 255\n",
    "x_test = test_set.data.numpy()[:1000] / 255\n",
    "y_train = train_set.targets.numpy()[:1000] \n",
    "y_test = test_set.targets.numpy()[:1000]\n"
   ]
  },
  {
   "cell_type": "code",
   "execution_count": 4,
   "id": "121fafb0",
   "metadata": {},
   "outputs": [],
   "source": [
    "x_train = Tensor(x_train, autograd=True)[:, None, :, :]\n",
    "x_test = Tensor(x_test, autograd=True)[:, None, :, :]\n",
    "y_train = Tensor(y_train, autograd=True)\n",
    "y_test = Tensor(y_test, autograd=True)"
   ]
  },
  {
   "cell_type": "code",
   "execution_count": 5,
   "id": "5497d654",
   "metadata": {},
   "outputs": [],
   "source": [
    "iterations = 50\n",
    "alpha = 0.001\n",
    "batch_size = 128"
   ]
  },
  {
   "cell_type": "code",
   "execution_count": 6,
   "id": "9fe05c6f",
   "metadata": {},
   "outputs": [],
   "source": [
    "model = Sequential(\n",
    "    [\n",
    "        Conv2d(image_size=(28,28), in_channels=1, out_channels=16, kernel_size=(3, 3), stride=2),\n",
    "        Tanh(),\n",
    "        Flatten(), \n",
    "        Linear(2704, 10)\n",
    "    ]\n",
    ")"
   ]
  },
  {
   "cell_type": "code",
   "execution_count": 7,
   "id": "a713e0da",
   "metadata": {},
   "outputs": [],
   "source": [
    "criterion = CrossEntropyLoss()\n",
    "optim = SGD(parameters=model.get_parameters(), alpha=alpha)"
   ]
  },
  {
   "cell_type": "code",
   "execution_count": 8,
   "id": "e56f4243",
   "metadata": {},
   "outputs": [
    {
     "name": "stdout",
     "output_type": "stream",
     "text": [
      "I:0 Train accuracy: 0.154 Test accuracy: 0.243\n",
      "I:1 Train accuracy: 0.468 Test accuracy: 0.533\n",
      "I:2 Train accuracy: 0.705 Test accuracy: 0.659\n",
      "I:3 Train accuracy: 0.79 Test accuracy: 0.723\n",
      "I:4 Train accuracy: 0.827 Test accuracy: 0.752\n",
      "I:5 Train accuracy: 0.844 Test accuracy: 0.771\n",
      "I:6 Train accuracy: 0.857 Test accuracy: 0.784\n",
      "I:7 Train accuracy: 0.872 Test accuracy: 0.796\n",
      "I:8 Train accuracy: 0.88 Test accuracy: 0.804\n",
      "I:9 Train accuracy: 0.887 Test accuracy: 0.814\n",
      "I:10 Train accuracy: 0.896 Test accuracy: 0.818\n",
      "I:11 Train accuracy: 0.896 Test accuracy: 0.823\n",
      "I:12 Train accuracy: 0.9 Test accuracy: 0.823\n",
      "I:13 Train accuracy: 0.904 Test accuracy: 0.824\n",
      "I:14 Train accuracy: 0.908 Test accuracy: 0.826\n",
      "I:15 Train accuracy: 0.91 Test accuracy: 0.829\n",
      "I:16 Train accuracy: 0.911 Test accuracy: 0.827\n",
      "I:17 Train accuracy: 0.914 Test accuracy: 0.829\n",
      "I:18 Train accuracy: 0.916 Test accuracy: 0.832\n",
      "I:19 Train accuracy: 0.921 Test accuracy: 0.833\n",
      "I:20 Train accuracy: 0.923 Test accuracy: 0.836\n",
      "I:21 Train accuracy: 0.927 Test accuracy: 0.836\n",
      "I:22 Train accuracy: 0.928 Test accuracy: 0.839\n",
      "I:23 Train accuracy: 0.928 Test accuracy: 0.839\n",
      "I:24 Train accuracy: 0.931 Test accuracy: 0.841\n",
      "I:25 Train accuracy: 0.932 Test accuracy: 0.842\n",
      "I:26 Train accuracy: 0.935 Test accuracy: 0.844\n",
      "I:27 Train accuracy: 0.935 Test accuracy: 0.844\n",
      "I:28 Train accuracy: 0.937 Test accuracy: 0.844\n",
      "I:29 Train accuracy: 0.937 Test accuracy: 0.844\n",
      "I:30 Train accuracy: 0.937 Test accuracy: 0.847\n",
      "I:31 Train accuracy: 0.939 Test accuracy: 0.847\n",
      "I:32 Train accuracy: 0.94 Test accuracy: 0.847\n",
      "I:33 Train accuracy: 0.942 Test accuracy: 0.844\n",
      "I:34 Train accuracy: 0.943 Test accuracy: 0.843\n",
      "I:35 Train accuracy: 0.943 Test accuracy: 0.842\n",
      "I:36 Train accuracy: 0.943 Test accuracy: 0.845\n",
      "I:37 Train accuracy: 0.943 Test accuracy: 0.845\n",
      "I:38 Train accuracy: 0.945 Test accuracy: 0.846\n",
      "I:39 Train accuracy: 0.946 Test accuracy: 0.846\n",
      "I:40 Train accuracy: 0.947 Test accuracy: 0.846\n",
      "I:41 Train accuracy: 0.947 Test accuracy: 0.846\n",
      "I:42 Train accuracy: 0.947 Test accuracy: 0.848\n",
      "I:43 Train accuracy: 0.947 Test accuracy: 0.848\n",
      "I:44 Train accuracy: 0.948 Test accuracy: 0.849\n",
      "I:45 Train accuracy: 0.95 Test accuracy: 0.849\n",
      "I:46 Train accuracy: 0.952 Test accuracy: 0.851\n",
      "I:47 Train accuracy: 0.953 Test accuracy: 0.852\n",
      "I:48 Train accuracy: 0.955 Test accuracy: 0.852\n",
      "I:49 Train accuracy: 0.955 Test accuracy: 0.852\n"
     ]
    }
   ],
   "source": [
    "for i in range(iterations):\n",
    "    train_all_count = x_train.shape[0]\n",
    "    train_correct_count = 0\n",
    "    \n",
    "    # Train loop for batches\n",
    "    for batch_start in range(0, x_train.shape[0], batch_size):\n",
    "        \n",
    "        data = x_train[batch_start: batch_start + batch_size]\n",
    "        target = y_train[batch_start: batch_start + batch_size]\n",
    "        \n",
    "        pred = model.forward(data)\n",
    "        loss = criterion.forward(pred, target)\n",
    "        \n",
    "        loss.backward()\n",
    "        optim.step()\n",
    "#         print(loss)\n",
    "        train_correct_count += (pred.softmax().argmax(axis=1) == target.data).sum()\n",
    "    \n",
    "    train_accuracy = train_correct_count / train_all_count\n",
    "\n",
    "    # Find test accuracy\n",
    "    test_pred = model.forward(x_test)\n",
    "    test_correct_count = (test_pred.softmax().argmax(axis=1) == y_test.data).sum()\n",
    "    test_accuracy = test_correct_count / x_test.shape[0]\n",
    "\n",
    "    print('I:{} Train accuracy: {} Test accuracy: {}'.format(i, train_accuracy, test_accuracy))"
   ]
  },
  {
   "cell_type": "code",
   "execution_count": 10,
   "id": "06239461",
   "metadata": {},
   "outputs": [],
   "source": [
    "import matplotlib.pyplot as plt"
   ]
  },
  {
   "cell_type": "code",
   "execution_count": 14,
   "id": "cee51236",
   "metadata": {},
   "outputs": [
    {
     "name": "stdout",
     "output_type": "stream",
     "text": [
      "Prediction: 6\n"
     ]
    },
    {
     "data": {
      "image/png": "[encoded data removed]",
      "text/plain": [
       "<Figure size 640x480 with 1 Axes>"
      ]
     },
     "metadata": {},
     "output_type": "display_data"
    }
   ],
   "source": [
    "input_example = x_test[123:124]\n",
    "pred = model.forward(input_example)\n",
    "print(\"Prediction:\",  pred.softmax().argmax(axis=1)[0])\n",
    "\n",
    "plt.imshow(input_example[0][0].data, cmap='gray')\n",
    "plt.show()"
   ]
  },
  {
   "cell_type": "code",
   "execution_count": null,
   "id": "a3e42498",
   "metadata": {},
   "outputs": [],
   "source": []
  }
 ],
 "metadata": {
  "kernelspec": {
   "display_name": "Python 3 (ipykernel)",
   "language": "python",
   "name": "python3"
  },
  "language_info": {
   "codemirror_mode": {
    "name": "ipython",
    "version": 3
   },
   "file_extension": ".py",
   "mimetype": "text/x-python",
   "name": "python",
   "nbconvert_exporter": "python",
   "pygments_lexer": "ipython3",
   "version": "3.8.5"
  }
 },
 "nbformat": 4,
 "nbformat_minor": 5
}
